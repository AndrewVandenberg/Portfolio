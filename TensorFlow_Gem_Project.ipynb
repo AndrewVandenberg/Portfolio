{
  "nbformat": 4,
  "nbformat_minor": 0,
  "metadata": {
    "colab": {
      "name": "TensorFlow Intro.ipynb",
      "provenance": [],
      "collapsed_sections": [],
      "authorship_tag": "ABX9TyNPUK5gEKCBViIZR2L7anBt",
      "include_colab_link": true
    },
    "kernelspec": {
      "name": "python3",
      "display_name": "Python 3"
    }
  },
  "cells": [
    {
      "cell_type": "markdown",
      "metadata": {
        "id": "view-in-github",
        "colab_type": "text"
      },
      "source": [
        "<a href=\"https://colab.research.google.com/github/AndrewVandenberg/Portfolio/blob/main/TensorFlow_Gem_Project.ipynb\" target=\"_parent\"><img src=\"https://colab.research.google.com/assets/colab-badge.svg\" alt=\"Open In Colab\"/></a>"
      ]
    },
    {
      "cell_type": "code",
      "metadata": {
        "id": "z53nlMPi0IWj"
      },
      "source": [
        "import pandas as pd\r\n",
        "import numpy as np\r\n",
        "import seaborn as sns"
      ],
      "execution_count": null,
      "outputs": []
    },
    {
      "cell_type": "code",
      "metadata": {
        "colab": {
          "resources": {
            "http://localhost:8080/nbextensions/google.colab/files.js": {
              "data": "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",
              "ok": true,
              "headers": [
                [
                  "content-type",
                  "application/javascript"
                ]
              ],
              "status": 200,
              "status_text": ""
            }
          },
          "base_uri": "https://localhost:8080/",
          "height": 72
        },
        "id": "Sm19K7jz0K_2",
        "outputId": "3c0478c3-de2b-4f21-d5ba-3ce4cde713c6"
      },
      "source": [
        "from google.colab import files\r\n",
        "uploaded = files.upload()"
      ],
      "execution_count": null,
      "outputs": [
        {
          "output_type": "display_data",
          "data": {
            "text/html": [
              "\n",
              "     <input type=\"file\" id=\"files-611bf7f5-e202-4f7c-9f12-216bbd37f44c\" name=\"files[]\" multiple disabled\n",
              "        style=\"border:none\" />\n",
              "     <output id=\"result-611bf7f5-e202-4f7c-9f12-216bbd37f44c\">\n",
              "      Upload widget is only available when the cell has been executed in the\n",
              "      current browser session. Please rerun this cell to enable.\n",
              "      </output>\n",
              "      <script src=\"/nbextensions/google.colab/files.js\"></script> "
            ],
            "text/plain": [
              "<IPython.core.display.HTML object>"
            ]
          },
          "metadata": {
            "tags": []
          }
        },
        {
          "output_type": "stream",
          "text": [
            "Saving fake_reg.csv to fake_reg.csv\n"
          ],
          "name": "stdout"
        }
      ]
    },
    {
      "cell_type": "code",
      "metadata": {
        "id": "0feS9XiR0M-C"
      },
      "source": [
        "import pandas as pd\r\n",
        "import io\r\n",
        "df = pd.read_csv(io.BytesIO(uploaded['fake_reg.csv']))"
      ],
      "execution_count": null,
      "outputs": []
    },
    {
      "cell_type": "code",
      "metadata": {
        "id": "93kQXKwp107J"
      },
      "source": [
        "from sklearn.model_selection import train_test_split"
      ],
      "execution_count": null,
      "outputs": []
    },
    {
      "cell_type": "code",
      "metadata": {
        "id": "CHdMxYTY256Y"
      },
      "source": [
        "X = df[['feature1', 'feature2']].values"
      ],
      "execution_count": null,
      "outputs": []
    },
    {
      "cell_type": "code",
      "metadata": {
        "id": "R0Kg6OCm2-n8"
      },
      "source": [
        "y = df['price'].values"
      ],
      "execution_count": null,
      "outputs": []
    },
    {
      "cell_type": "code",
      "metadata": {
        "id": "Nek5BsSv3BLe"
      },
      "source": [
        "X_train, X_test, y_train, y_test = train_test_split(X, y, test_size=0.3, random_state=42)"
      ],
      "execution_count": null,
      "outputs": []
    },
    {
      "cell_type": "code",
      "metadata": {
        "id": "x-ap-vWu3DTC"
      },
      "source": [
        "from sklearn.preprocessing import MinMaxScaler"
      ],
      "execution_count": null,
      "outputs": []
    },
    {
      "cell_type": "code",
      "metadata": {
        "id": "X0XjLE773FiF"
      },
      "source": [
        "scaler = MinMaxScaler()"
      ],
      "execution_count": null,
      "outputs": []
    },
    {
      "cell_type": "code",
      "metadata": {
        "colab": {
          "base_uri": "https://localhost:8080/"
        },
        "id": "9v1I18pu3Hj6",
        "outputId": "9aae87f5-1463-4aa7-e999-a485ed56ab51"
      },
      "source": [
        "scaler.fit(X_train) # fit calculates the parameters it needs to perform \r\n"
      ],
      "execution_count": null,
      "outputs": [
        {
          "output_type": "execute_result",
          "data": {
            "text/plain": [
              "MinMaxScaler(copy=True, feature_range=(0, 1))"
            ]
          },
          "metadata": {
            "tags": []
          },
          "execution_count": 10
        }
      ]
    },
    {
      "cell_type": "code",
      "metadata": {
        "id": "NMYiK2Uv3J4U"
      },
      "source": [
        "X_train = scaler.transform(X_train) # perform transformation "
      ],
      "execution_count": null,
      "outputs": []
    },
    {
      "cell_type": "code",
      "metadata": {
        "id": "lp4pPlkd3MvY"
      },
      "source": [
        "X_test = scaler.transform(X_test)"
      ],
      "execution_count": null,
      "outputs": []
    },
    {
      "cell_type": "code",
      "metadata": {
        "id": "gbOTeFs23PaY"
      },
      "source": [
        "from tensorflow.keras.models import Sequential\r\n",
        "from tensorflow.keras.layers import Dense"
      ],
      "execution_count": null,
      "outputs": []
    },
    {
      "cell_type": "code",
      "metadata": {
        "id": "P55O1qc63WHE"
      },
      "source": [
        "model = Sequential()\r\n",
        "\r\n",
        "model.add(Dense(4, activation = 'relu'))\r\n",
        "model.add(Dense(4, activation = 'relu')) \r\n",
        "model.add(Dense(4, activation = 'relu')) \r\n",
        "\r\n",
        "model.add(Dense(1))\r\n",
        "# optimizer is asking how we want to perform the gradient descent\r\n",
        "# loss function is asking about cost function\r\n",
        "model.compile(optimizer = 'rmsprop', loss = 'mse')"
      ],
      "execution_count": null,
      "outputs": []
    },
    {
      "cell_type": "code",
      "metadata": {
        "colab": {
          "base_uri": "https://localhost:8080/"
        },
        "id": "iC5ASClJ3ZyP",
        "outputId": "ff6d371d-b9bb-4da1-95be-d0ccce17da09"
      },
      "source": [
        "model.fit(x = X_train, y = y_train, epochs = 250)"
      ],
      "execution_count": null,
      "outputs": [
        {
          "output_type": "stream",
          "text": [
            "Epoch 1/250\n",
            "22/22 [==============================] - 0s 1ms/step - loss: 42.1361\n",
            "Epoch 2/250\n",
            "22/22 [==============================] - 0s 1ms/step - loss: 39.9166\n",
            "Epoch 3/250\n",
            "22/22 [==============================] - 0s 1ms/step - loss: 38.1529\n",
            "Epoch 4/250\n",
            "22/22 [==============================] - 0s 1ms/step - loss: 36.1483\n",
            "Epoch 5/250\n",
            "22/22 [==============================] - 0s 1ms/step - loss: 34.5673\n",
            "Epoch 6/250\n",
            "22/22 [==============================] - 0s 1ms/step - loss: 33.1170\n",
            "Epoch 7/250\n",
            "22/22 [==============================] - 0s 1ms/step - loss: 31.9354\n",
            "Epoch 8/250\n",
            "22/22 [==============================] - 0s 1ms/step - loss: 30.8176\n",
            "Epoch 9/250\n",
            "22/22 [==============================] - 0s 1ms/step - loss: 29.8106\n",
            "Epoch 10/250\n",
            "22/22 [==============================] - 0s 1ms/step - loss: 29.2687\n",
            "Epoch 11/250\n",
            "22/22 [==============================] - 0s 1ms/step - loss: 28.3719\n",
            "Epoch 12/250\n",
            "22/22 [==============================] - 0s 1ms/step - loss: 27.7438\n",
            "Epoch 13/250\n",
            "22/22 [==============================] - 0s 1ms/step - loss: 27.1242\n",
            "Epoch 14/250\n",
            "22/22 [==============================] - 0s 1ms/step - loss: 26.6887\n",
            "Epoch 15/250\n",
            "22/22 [==============================] - 0s 1ms/step - loss: 26.2524\n",
            "Epoch 16/250\n",
            "22/22 [==============================] - 0s 1ms/step - loss: 26.1332\n",
            "Epoch 17/250\n",
            "22/22 [==============================] - 0s 1ms/step - loss: 25.7151\n",
            "Epoch 18/250\n",
            "22/22 [==============================] - 0s 1ms/step - loss: 25.3020\n",
            "Epoch 19/250\n",
            "22/22 [==============================] - 0s 1ms/step - loss: 25.5533\n",
            "Epoch 20/250\n",
            "22/22 [==============================] - 0s 1ms/step - loss: 25.3254\n",
            "Epoch 21/250\n",
            "22/22 [==============================] - 0s 1ms/step - loss: 24.7306\n",
            "Epoch 22/250\n",
            "22/22 [==============================] - 0s 1ms/step - loss: 24.9656\n",
            "Epoch 23/250\n",
            "22/22 [==============================] - 0s 1ms/step - loss: 24.7561\n",
            "Epoch 24/250\n",
            "22/22 [==============================] - 0s 1ms/step - loss: 24.6634\n",
            "Epoch 25/250\n",
            "22/22 [==============================] - 0s 1ms/step - loss: 24.3472\n",
            "Epoch 26/250\n",
            "22/22 [==============================] - 0s 1ms/step - loss: 24.4673\n",
            "Epoch 27/250\n",
            "22/22 [==============================] - 0s 1ms/step - loss: 24.6398\n",
            "Epoch 28/250\n",
            "22/22 [==============================] - 0s 1ms/step - loss: 24.2934\n",
            "Epoch 29/250\n",
            "22/22 [==============================] - 0s 1ms/step - loss: 24.3842\n",
            "Epoch 30/250\n",
            "22/22 [==============================] - 0s 1ms/step - loss: 24.3091\n",
            "Epoch 31/250\n",
            "22/22 [==============================] - 0s 1ms/step - loss: 24.4492\n",
            "Epoch 32/250\n",
            "22/22 [==============================] - 0s 1ms/step - loss: 24.2619\n",
            "Epoch 33/250\n",
            "22/22 [==============================] - 0s 1ms/step - loss: 23.9167\n",
            "Epoch 34/250\n",
            "22/22 [==============================] - 0s 1ms/step - loss: 24.1841\n",
            "Epoch 35/250\n",
            "22/22 [==============================] - 0s 1ms/step - loss: 24.3199\n",
            "Epoch 36/250\n",
            "22/22 [==============================] - 0s 1ms/step - loss: 24.2894\n",
            "Epoch 37/250\n",
            "22/22 [==============================] - 0s 1ms/step - loss: 24.2314\n",
            "Epoch 38/250\n",
            "22/22 [==============================] - 0s 1ms/step - loss: 24.1185\n",
            "Epoch 39/250\n",
            "22/22 [==============================] - 0s 1ms/step - loss: 24.2358\n",
            "Epoch 40/250\n",
            "22/22 [==============================] - 0s 1ms/step - loss: 24.1692\n",
            "Epoch 41/250\n",
            "22/22 [==============================] - 0s 1ms/step - loss: 24.1154\n",
            "Epoch 42/250\n",
            "22/22 [==============================] - 0s 1ms/step - loss: 23.9023\n",
            "Epoch 43/250\n",
            "22/22 [==============================] - 0s 1ms/step - loss: 24.0080\n",
            "Epoch 44/250\n",
            "22/22 [==============================] - 0s 1ms/step - loss: 24.1859\n",
            "Epoch 45/250\n",
            "22/22 [==============================] - 0s 2ms/step - loss: 24.2935\n",
            "Epoch 46/250\n",
            "22/22 [==============================] - 0s 2ms/step - loss: 23.8581\n",
            "Epoch 47/250\n",
            "22/22 [==============================] - 0s 1ms/step - loss: 24.1200\n",
            "Epoch 48/250\n",
            "22/22 [==============================] - 0s 1ms/step - loss: 24.1408\n",
            "Epoch 49/250\n",
            "22/22 [==============================] - 0s 1ms/step - loss: 23.9252\n",
            "Epoch 50/250\n",
            "22/22 [==============================] - 0s 1ms/step - loss: 24.0513\n",
            "Epoch 51/250\n",
            "22/22 [==============================] - 0s 2ms/step - loss: 24.0783\n",
            "Epoch 52/250\n",
            "22/22 [==============================] - 0s 1ms/step - loss: 23.9645\n",
            "Epoch 53/250\n",
            "22/22 [==============================] - 0s 1ms/step - loss: 24.1608\n",
            "Epoch 54/250\n",
            "22/22 [==============================] - 0s 1ms/step - loss: 23.9464\n",
            "Epoch 55/250\n",
            "22/22 [==============================] - 0s 1ms/step - loss: 24.2127\n",
            "Epoch 56/250\n",
            "22/22 [==============================] - 0s 1ms/step - loss: 23.7284\n",
            "Epoch 57/250\n",
            "22/22 [==============================] - 0s 1ms/step - loss: 23.5528\n",
            "Epoch 58/250\n",
            "22/22 [==============================] - 0s 1ms/step - loss: 24.0303\n",
            "Epoch 59/250\n",
            "22/22 [==============================] - 0s 1ms/step - loss: 24.1120\n",
            "Epoch 60/250\n",
            "22/22 [==============================] - 0s 1ms/step - loss: 23.9126\n",
            "Epoch 61/250\n",
            "22/22 [==============================] - 0s 1ms/step - loss: 24.0723\n",
            "Epoch 62/250\n",
            "22/22 [==============================] - 0s 1ms/step - loss: 23.9827\n",
            "Epoch 63/250\n",
            "22/22 [==============================] - 0s 1ms/step - loss: 24.2997\n",
            "Epoch 64/250\n",
            "22/22 [==============================] - 0s 1ms/step - loss: 23.8094\n",
            "Epoch 65/250\n",
            "22/22 [==============================] - 0s 2ms/step - loss: 24.2211\n",
            "Epoch 66/250\n",
            "22/22 [==============================] - 0s 1ms/step - loss: 24.1110\n",
            "Epoch 67/250\n",
            "22/22 [==============================] - 0s 1ms/step - loss: 23.9811\n",
            "Epoch 68/250\n",
            "22/22 [==============================] - 0s 1ms/step - loss: 24.0075\n",
            "Epoch 69/250\n",
            "22/22 [==============================] - 0s 1ms/step - loss: 23.9640\n",
            "Epoch 70/250\n",
            "22/22 [==============================] - 0s 2ms/step - loss: 24.0087\n",
            "Epoch 71/250\n",
            "22/22 [==============================] - 0s 1ms/step - loss: 24.0548\n",
            "Epoch 72/250\n",
            "22/22 [==============================] - 0s 2ms/step - loss: 24.1656\n",
            "Epoch 73/250\n",
            "22/22 [==============================] - 0s 2ms/step - loss: 23.7983\n",
            "Epoch 74/250\n",
            "22/22 [==============================] - 0s 1ms/step - loss: 24.3686\n",
            "Epoch 75/250\n",
            "22/22 [==============================] - 0s 2ms/step - loss: 23.7395\n",
            "Epoch 76/250\n",
            "22/22 [==============================] - 0s 1ms/step - loss: 24.1405\n",
            "Epoch 77/250\n",
            "22/22 [==============================] - 0s 1ms/step - loss: 24.2479\n",
            "Epoch 78/250\n",
            "22/22 [==============================] - 0s 1ms/step - loss: 23.9438\n",
            "Epoch 79/250\n",
            "22/22 [==============================] - 0s 1ms/step - loss: 24.0828\n",
            "Epoch 80/250\n",
            "22/22 [==============================] - 0s 2ms/step - loss: 23.9469\n",
            "Epoch 81/250\n",
            "22/22 [==============================] - 0s 1ms/step - loss: 24.1747\n",
            "Epoch 82/250\n",
            "22/22 [==============================] - 0s 2ms/step - loss: 24.0339\n",
            "Epoch 83/250\n",
            "22/22 [==============================] - 0s 2ms/step - loss: 23.9143\n",
            "Epoch 84/250\n",
            "22/22 [==============================] - 0s 1ms/step - loss: 24.1863\n",
            "Epoch 85/250\n",
            "22/22 [==============================] - 0s 1ms/step - loss: 23.8192\n",
            "Epoch 86/250\n",
            "22/22 [==============================] - 0s 1ms/step - loss: 24.1642\n",
            "Epoch 87/250\n",
            "22/22 [==============================] - 0s 1ms/step - loss: 24.0089\n",
            "Epoch 88/250\n",
            "22/22 [==============================] - 0s 1ms/step - loss: 24.2937\n",
            "Epoch 89/250\n",
            "22/22 [==============================] - 0s 1ms/step - loss: 24.2123\n",
            "Epoch 90/250\n",
            "22/22 [==============================] - 0s 1ms/step - loss: 24.1661\n",
            "Epoch 91/250\n",
            "22/22 [==============================] - 0s 1ms/step - loss: 23.8709\n",
            "Epoch 92/250\n",
            "22/22 [==============================] - 0s 2ms/step - loss: 24.4063\n",
            "Epoch 93/250\n",
            "22/22 [==============================] - 0s 2ms/step - loss: 24.0722\n",
            "Epoch 94/250\n",
            "22/22 [==============================] - 0s 2ms/step - loss: 23.8442\n",
            "Epoch 95/250\n",
            "22/22 [==============================] - 0s 1ms/step - loss: 24.3322\n",
            "Epoch 96/250\n",
            "22/22 [==============================] - 0s 1ms/step - loss: 24.0561\n",
            "Epoch 97/250\n",
            "22/22 [==============================] - 0s 1ms/step - loss: 23.9430\n",
            "Epoch 98/250\n",
            "22/22 [==============================] - 0s 3ms/step - loss: 23.9826\n",
            "Epoch 99/250\n",
            "22/22 [==============================] - 0s 2ms/step - loss: 24.1303\n",
            "Epoch 100/250\n",
            "22/22 [==============================] - 0s 1ms/step - loss: 24.1478\n",
            "Epoch 101/250\n",
            "22/22 [==============================] - 0s 1ms/step - loss: 24.1771\n",
            "Epoch 102/250\n",
            "22/22 [==============================] - 0s 1ms/step - loss: 24.0612\n",
            "Epoch 103/250\n",
            "22/22 [==============================] - 0s 1ms/step - loss: 24.0652\n",
            "Epoch 104/250\n",
            "22/22 [==============================] - 0s 1ms/step - loss: 23.9492\n",
            "Epoch 105/250\n",
            "22/22 [==============================] - 0s 1ms/step - loss: 24.1033\n",
            "Epoch 106/250\n",
            "22/22 [==============================] - 0s 1ms/step - loss: 23.9556\n",
            "Epoch 107/250\n",
            "22/22 [==============================] - 0s 1ms/step - loss: 24.3397\n",
            "Epoch 108/250\n",
            "22/22 [==============================] - 0s 1ms/step - loss: 23.9757\n",
            "Epoch 109/250\n",
            "22/22 [==============================] - 0s 1ms/step - loss: 24.0662\n",
            "Epoch 110/250\n",
            "22/22 [==============================] - 0s 1ms/step - loss: 24.1502\n",
            "Epoch 111/250\n",
            "22/22 [==============================] - 0s 1ms/step - loss: 24.0505\n",
            "Epoch 112/250\n",
            "22/22 [==============================] - 0s 1ms/step - loss: 24.1507\n",
            "Epoch 113/250\n",
            "22/22 [==============================] - 0s 1ms/step - loss: 23.8694\n",
            "Epoch 114/250\n",
            "22/22 [==============================] - 0s 1ms/step - loss: 24.1519\n",
            "Epoch 115/250\n",
            "22/22 [==============================] - 0s 1ms/step - loss: 24.3344\n",
            "Epoch 116/250\n",
            "22/22 [==============================] - 0s 1ms/step - loss: 23.8569\n",
            "Epoch 117/250\n",
            "22/22 [==============================] - 0s 1ms/step - loss: 24.4499\n",
            "Epoch 118/250\n",
            "22/22 [==============================] - 0s 2ms/step - loss: 24.0494\n",
            "Epoch 119/250\n",
            "22/22 [==============================] - 0s 1ms/step - loss: 24.0127\n",
            "Epoch 120/250\n",
            "22/22 [==============================] - 0s 1ms/step - loss: 24.2508\n",
            "Epoch 121/250\n",
            "22/22 [==============================] - 0s 1ms/step - loss: 23.9622\n",
            "Epoch 122/250\n",
            "22/22 [==============================] - 0s 1ms/step - loss: 24.3016\n",
            "Epoch 123/250\n",
            "22/22 [==============================] - 0s 2ms/step - loss: 24.1149\n",
            "Epoch 124/250\n",
            "22/22 [==============================] - 0s 2ms/step - loss: 23.9449\n",
            "Epoch 125/250\n",
            "22/22 [==============================] - 0s 1ms/step - loss: 23.9985\n",
            "Epoch 126/250\n",
            "22/22 [==============================] - 0s 2ms/step - loss: 24.1363\n",
            "Epoch 127/250\n",
            "22/22 [==============================] - 0s 1ms/step - loss: 24.0403\n",
            "Epoch 128/250\n",
            "22/22 [==============================] - 0s 1ms/step - loss: 23.9896\n",
            "Epoch 129/250\n",
            "22/22 [==============================] - 0s 1ms/step - loss: 23.9971\n",
            "Epoch 130/250\n",
            "22/22 [==============================] - 0s 2ms/step - loss: 24.3392\n",
            "Epoch 131/250\n",
            "22/22 [==============================] - 0s 2ms/step - loss: 24.2376\n",
            "Epoch 132/250\n",
            "22/22 [==============================] - 0s 1ms/step - loss: 24.1049\n",
            "Epoch 133/250\n",
            "22/22 [==============================] - 0s 1ms/step - loss: 24.0574\n",
            "Epoch 134/250\n",
            "22/22 [==============================] - 0s 1ms/step - loss: 24.0728\n",
            "Epoch 135/250\n",
            "22/22 [==============================] - 0s 1ms/step - loss: 23.9921\n",
            "Epoch 136/250\n",
            "22/22 [==============================] - 0s 2ms/step - loss: 24.1995\n",
            "Epoch 137/250\n",
            "22/22 [==============================] - 0s 1ms/step - loss: 23.8084\n",
            "Epoch 138/250\n",
            "22/22 [==============================] - 0s 2ms/step - loss: 23.9449\n",
            "Epoch 139/250\n",
            "22/22 [==============================] - 0s 1ms/step - loss: 24.0175\n",
            "Epoch 140/250\n",
            "22/22 [==============================] - 0s 1ms/step - loss: 24.1107\n",
            "Epoch 141/250\n",
            "22/22 [==============================] - 0s 1ms/step - loss: 23.9027\n",
            "Epoch 142/250\n",
            "22/22 [==============================] - 0s 1ms/step - loss: 23.9672\n",
            "Epoch 143/250\n",
            "22/22 [==============================] - 0s 1ms/step - loss: 24.4366\n",
            "Epoch 144/250\n",
            "22/22 [==============================] - 0s 1ms/step - loss: 23.8800\n",
            "Epoch 145/250\n",
            "22/22 [==============================] - 0s 1ms/step - loss: 24.2895\n",
            "Epoch 146/250\n",
            "22/22 [==============================] - 0s 1ms/step - loss: 24.0864\n",
            "Epoch 147/250\n",
            "22/22 [==============================] - 0s 1ms/step - loss: 24.0544\n",
            "Epoch 148/250\n",
            "22/22 [==============================] - 0s 2ms/step - loss: 23.9738\n",
            "Epoch 149/250\n",
            "22/22 [==============================] - 0s 1ms/step - loss: 24.0725\n",
            "Epoch 150/250\n",
            "22/22 [==============================] - 0s 1ms/step - loss: 24.0633\n",
            "Epoch 151/250\n",
            "22/22 [==============================] - 0s 1ms/step - loss: 23.9381\n",
            "Epoch 152/250\n",
            "22/22 [==============================] - 0s 2ms/step - loss: 24.1538\n",
            "Epoch 153/250\n",
            "22/22 [==============================] - 0s 1ms/step - loss: 24.0553\n",
            "Epoch 154/250\n",
            "22/22 [==============================] - 0s 2ms/step - loss: 23.9347\n",
            "Epoch 155/250\n",
            "22/22 [==============================] - 0s 1ms/step - loss: 24.1780\n",
            "Epoch 156/250\n",
            "22/22 [==============================] - 0s 1ms/step - loss: 24.0136\n",
            "Epoch 157/250\n",
            "22/22 [==============================] - 0s 1ms/step - loss: 23.9805\n",
            "Epoch 158/250\n",
            "22/22 [==============================] - 0s 1ms/step - loss: 24.1648\n",
            "Epoch 159/250\n",
            "22/22 [==============================] - 0s 1ms/step - loss: 23.9870\n",
            "Epoch 160/250\n",
            "22/22 [==============================] - 0s 1ms/step - loss: 23.9607\n",
            "Epoch 161/250\n",
            "22/22 [==============================] - 0s 1ms/step - loss: 24.0897\n",
            "Epoch 162/250\n",
            "22/22 [==============================] - 0s 1ms/step - loss: 24.1675\n",
            "Epoch 163/250\n",
            "22/22 [==============================] - 0s 1ms/step - loss: 24.0638\n",
            "Epoch 164/250\n",
            "22/22 [==============================] - 0s 1ms/step - loss: 23.9487\n",
            "Epoch 165/250\n",
            "22/22 [==============================] - 0s 1ms/step - loss: 23.9235\n",
            "Epoch 166/250\n",
            "22/22 [==============================] - 0s 1ms/step - loss: 24.1498\n",
            "Epoch 167/250\n",
            "22/22 [==============================] - 0s 1ms/step - loss: 24.1141\n",
            "Epoch 168/250\n",
            "22/22 [==============================] - 0s 1ms/step - loss: 23.8113\n",
            "Epoch 169/250\n",
            "22/22 [==============================] - 0s 1ms/step - loss: 23.8510\n",
            "Epoch 170/250\n",
            "22/22 [==============================] - 0s 1ms/step - loss: 24.0471\n",
            "Epoch 171/250\n",
            "22/22 [==============================] - 0s 1ms/step - loss: 23.9806\n",
            "Epoch 172/250\n",
            "22/22 [==============================] - 0s 1ms/step - loss: 24.1043\n",
            "Epoch 173/250\n",
            "22/22 [==============================] - 0s 1ms/step - loss: 23.8855\n",
            "Epoch 174/250\n",
            "22/22 [==============================] - 0s 1ms/step - loss: 24.2668\n",
            "Epoch 175/250\n",
            "22/22 [==============================] - 0s 1ms/step - loss: 24.0005\n",
            "Epoch 176/250\n",
            "22/22 [==============================] - 0s 2ms/step - loss: 23.8631\n",
            "Epoch 177/250\n",
            "22/22 [==============================] - 0s 2ms/step - loss: 24.0984\n",
            "Epoch 178/250\n",
            "22/22 [==============================] - 0s 1ms/step - loss: 24.1692\n",
            "Epoch 179/250\n",
            "22/22 [==============================] - 0s 1ms/step - loss: 24.2426\n",
            "Epoch 180/250\n",
            "22/22 [==============================] - 0s 2ms/step - loss: 23.9443\n",
            "Epoch 181/250\n",
            "22/22 [==============================] - 0s 1ms/step - loss: 24.1213\n",
            "Epoch 182/250\n",
            "22/22 [==============================] - 0s 1ms/step - loss: 23.9934\n",
            "Epoch 183/250\n",
            "22/22 [==============================] - 0s 2ms/step - loss: 24.0788\n",
            "Epoch 184/250\n",
            "22/22 [==============================] - 0s 2ms/step - loss: 23.9179\n",
            "Epoch 185/250\n",
            "22/22 [==============================] - 0s 1ms/step - loss: 23.9918\n",
            "Epoch 186/250\n",
            "22/22 [==============================] - 0s 1ms/step - loss: 23.8835\n",
            "Epoch 187/250\n",
            "22/22 [==============================] - 0s 1ms/step - loss: 24.0873\n",
            "Epoch 188/250\n",
            "22/22 [==============================] - 0s 2ms/step - loss: 24.0486\n",
            "Epoch 189/250\n",
            "22/22 [==============================] - 0s 1ms/step - loss: 24.1605\n",
            "Epoch 190/250\n",
            "22/22 [==============================] - 0s 1ms/step - loss: 24.0012\n",
            "Epoch 191/250\n",
            "22/22 [==============================] - 0s 1ms/step - loss: 23.8282\n",
            "Epoch 192/250\n",
            "22/22 [==============================] - 0s 1ms/step - loss: 24.2246\n",
            "Epoch 193/250\n",
            "22/22 [==============================] - 0s 1ms/step - loss: 24.2035\n",
            "Epoch 194/250\n",
            "22/22 [==============================] - 0s 1ms/step - loss: 24.0802\n",
            "Epoch 195/250\n",
            "22/22 [==============================] - 0s 1ms/step - loss: 23.9145\n",
            "Epoch 196/250\n",
            "22/22 [==============================] - 0s 1ms/step - loss: 24.2774\n",
            "Epoch 197/250\n",
            "22/22 [==============================] - 0s 1ms/step - loss: 23.9874\n",
            "Epoch 198/250\n",
            "22/22 [==============================] - 0s 2ms/step - loss: 24.0181\n",
            "Epoch 199/250\n",
            "22/22 [==============================] - 0s 1ms/step - loss: 24.3585\n",
            "Epoch 200/250\n",
            "22/22 [==============================] - 0s 1ms/step - loss: 24.1422\n",
            "Epoch 201/250\n",
            "22/22 [==============================] - 0s 2ms/step - loss: 24.0345\n",
            "Epoch 202/250\n",
            "22/22 [==============================] - 0s 1ms/step - loss: 24.2103\n",
            "Epoch 203/250\n",
            "22/22 [==============================] - 0s 2ms/step - loss: 23.9930\n",
            "Epoch 204/250\n",
            "22/22 [==============================] - 0s 2ms/step - loss: 24.2879\n",
            "Epoch 205/250\n",
            "22/22 [==============================] - 0s 2ms/step - loss: 23.9466\n",
            "Epoch 206/250\n",
            "22/22 [==============================] - 0s 1ms/step - loss: 23.9532\n",
            "Epoch 207/250\n",
            "22/22 [==============================] - 0s 1ms/step - loss: 24.4443\n",
            "Epoch 208/250\n",
            "22/22 [==============================] - 0s 1ms/step - loss: 24.0546\n",
            "Epoch 209/250\n",
            "22/22 [==============================] - 0s 1ms/step - loss: 24.0218\n",
            "Epoch 210/250\n",
            "22/22 [==============================] - 0s 1ms/step - loss: 24.2505\n",
            "Epoch 211/250\n",
            "22/22 [==============================] - 0s 1ms/step - loss: 24.0270\n",
            "Epoch 212/250\n",
            "22/22 [==============================] - 0s 1ms/step - loss: 24.1634\n",
            "Epoch 213/250\n",
            "22/22 [==============================] - 0s 2ms/step - loss: 24.2150\n",
            "Epoch 214/250\n",
            "22/22 [==============================] - 0s 1ms/step - loss: 24.0592\n",
            "Epoch 215/250\n",
            "22/22 [==============================] - 0s 1ms/step - loss: 24.0624\n",
            "Epoch 216/250\n",
            "22/22 [==============================] - 0s 2ms/step - loss: 23.9603\n",
            "Epoch 217/250\n",
            "22/22 [==============================] - 0s 1ms/step - loss: 24.2878\n",
            "Epoch 218/250\n",
            "22/22 [==============================] - 0s 1ms/step - loss: 24.1510\n",
            "Epoch 219/250\n",
            "22/22 [==============================] - 0s 1ms/step - loss: 24.0450\n",
            "Epoch 220/250\n",
            "22/22 [==============================] - 0s 1ms/step - loss: 24.1649\n",
            "Epoch 221/250\n",
            "22/22 [==============================] - 0s 1ms/step - loss: 24.1326\n",
            "Epoch 222/250\n",
            "22/22 [==============================] - 0s 1ms/step - loss: 24.0302\n",
            "Epoch 223/250\n",
            "22/22 [==============================] - 0s 2ms/step - loss: 24.1777\n",
            "Epoch 224/250\n",
            "22/22 [==============================] - 0s 1ms/step - loss: 24.0311\n",
            "Epoch 225/250\n",
            "22/22 [==============================] - 0s 2ms/step - loss: 24.3366\n",
            "Epoch 226/250\n",
            "22/22 [==============================] - 0s 1ms/step - loss: 23.8945\n",
            "Epoch 227/250\n",
            "22/22 [==============================] - 0s 1ms/step - loss: 24.1801\n",
            "Epoch 228/250\n",
            "22/22 [==============================] - 0s 1ms/step - loss: 24.0848\n",
            "Epoch 229/250\n",
            "22/22 [==============================] - 0s 1ms/step - loss: 24.1456\n",
            "Epoch 230/250\n",
            "22/22 [==============================] - 0s 1ms/step - loss: 24.0432\n",
            "Epoch 231/250\n",
            "22/22 [==============================] - 0s 1ms/step - loss: 24.2150\n",
            "Epoch 232/250\n",
            "22/22 [==============================] - 0s 1ms/step - loss: 24.0015\n",
            "Epoch 233/250\n",
            "22/22 [==============================] - 0s 1ms/step - loss: 23.8759\n",
            "Epoch 234/250\n",
            "22/22 [==============================] - 0s 1ms/step - loss: 24.0875\n",
            "Epoch 235/250\n",
            "22/22 [==============================] - 0s 1ms/step - loss: 23.8183\n",
            "Epoch 236/250\n",
            "22/22 [==============================] - 0s 2ms/step - loss: 23.9912\n",
            "Epoch 237/250\n",
            "22/22 [==============================] - 0s 2ms/step - loss: 24.1955\n",
            "Epoch 238/250\n",
            "22/22 [==============================] - 0s 1ms/step - loss: 24.0286\n",
            "Epoch 239/250\n",
            "22/22 [==============================] - 0s 1ms/step - loss: 24.2933\n",
            "Epoch 240/250\n",
            "22/22 [==============================] - 0s 2ms/step - loss: 23.8473\n",
            "Epoch 241/250\n",
            "22/22 [==============================] - 0s 2ms/step - loss: 24.2666\n",
            "Epoch 242/250\n",
            "22/22 [==============================] - 0s 1ms/step - loss: 24.0154\n",
            "Epoch 243/250\n",
            "22/22 [==============================] - 0s 1ms/step - loss: 24.2265\n",
            "Epoch 244/250\n",
            "22/22 [==============================] - 0s 1ms/step - loss: 24.0026\n",
            "Epoch 245/250\n",
            "22/22 [==============================] - 0s 1ms/step - loss: 24.3251\n",
            "Epoch 246/250\n",
            "22/22 [==============================] - 0s 1ms/step - loss: 23.9905\n",
            "Epoch 247/250\n",
            "22/22 [==============================] - 0s 1ms/step - loss: 23.8591\n",
            "Epoch 248/250\n",
            "22/22 [==============================] - 0s 1ms/step - loss: 24.3344\n",
            "Epoch 249/250\n",
            "22/22 [==============================] - 0s 2ms/step - loss: 24.1474\n",
            "Epoch 250/250\n",
            "22/22 [==============================] - 0s 1ms/step - loss: 24.1490\n"
          ],
          "name": "stdout"
        },
        {
          "output_type": "execute_result",
          "data": {
            "text/plain": [
              "<tensorflow.python.keras.callbacks.History at 0x7f1c2c38a630>"
            ]
          },
          "metadata": {
            "tags": []
          },
          "execution_count": 23
        }
      ]
    },
    {
      "cell_type": "code",
      "metadata": {
        "id": "UVcSU2jwF8hx"
      },
      "source": [
        "model_history = pd.DataFrame(model.history.history)"
      ],
      "execution_count": null,
      "outputs": []
    },
    {
      "cell_type": "code",
      "metadata": {
        "colab": {
          "base_uri": "https://localhost:8080/",
          "height": 282
        },
        "id": "yL9ljE3BGbN8",
        "outputId": "8993d884-65d0-4eed-a152-94e284f7b07f"
      },
      "source": [
        "model_history.plot()"
      ],
      "execution_count": null,
      "outputs": [
        {
          "output_type": "execute_result",
          "data": {
            "text/plain": [
              "<matplotlib.axes._subplots.AxesSubplot at 0x7f1c2c37f748>"
            ]
          },
          "metadata": {
            "tags": []
          },
          "execution_count": 25
        },
        {
          "output_type": "display_data",
          "data": {
            "image/png": "[encoded data removed]",
            "text/plain": [
              "<Figure size 432x288 with 1 Axes>"
            ]
          },
          "metadata": {
            "tags": [],
            "needs_background": "light"
          }
        }
      ]
    },
    {
      "cell_type": "code",
      "metadata": {
        "id": "P1FPA6vZGkFL"
      },
      "source": [
        ""
      ],
      "execution_count": null,
      "outputs": []
    },
    {
      "cell_type": "markdown",
      "metadata": {
        "id": "dgLW7vrKHO0P"
      },
      "source": [
        "## Evaluation of model\r\n",
        "* How will the model perform on the test data?"
      ]
    },
    {
      "cell_type": "code",
      "metadata": {
        "colab": {
          "base_uri": "https://localhost:8080/"
        },
        "id": "ndua5TjVHmAs",
        "outputId": "9df9cc79-9451-43ff-dc8b-781a35fac844"
      },
      "source": [
        "model.evaluate(X_test, y_test) # Returns models loss"
      ],
      "execution_count": null,
      "outputs": [
        {
          "output_type": "stream",
          "text": [
            "10/10 [==============================] - 0s 1ms/step - loss: 25.1695\n"
          ],
          "name": "stdout"
        },
        {
          "output_type": "execute_result",
          "data": {
            "text/plain": [
              "25.169506072998047"
            ]
          },
          "metadata": {
            "tags": []
          },
          "execution_count": 26
        }
      ]
    },
    {
      "cell_type": "code",
      "metadata": {
        "colab": {
          "base_uri": "https://localhost:8080/"
        },
        "id": "ofoVc9vlH1n6",
        "outputId": "9cf3a89c-b35c-4cf1-c317-d3e947f16587"
      },
      "source": [
        "model.evaluate(X_train, y_train)"
      ],
      "execution_count": null,
      "outputs": [
        {
          "output_type": "stream",
          "text": [
            "22/22 [==============================] - 0s 998us/step - loss: 23.7286\n"
          ],
          "name": "stdout"
        },
        {
          "output_type": "execute_result",
          "data": {
            "text/plain": [
              "23.728628158569336"
            ]
          },
          "metadata": {
            "tags": []
          },
          "execution_count": 27
        }
      ]
    },
    {
      "cell_type": "code",
      "metadata": {
        "id": "utxVlspTIHZz"
      },
      "source": [
        "test_predictions = model.predict(X_test) # We pass in our test features, and our model predicts\r\n",
        "                                         # what the price should be based on those features"
      ],
      "execution_count": null,
      "outputs": []
    },
    {
      "cell_type": "code",
      "metadata": {
        "colab": {
          "base_uri": "https://localhost:8080/"
        },
        "id": "jIrk4cQMJq5q",
        "outputId": "350f5250-2c03-4dd6-eb31-259fa9c069d4"
      },
      "source": [
        "test_predictions # A list of the predictions of what the price should be based on the features"
      ],
      "execution_count": null,
      "outputs": [
        {
          "output_type": "execute_result",
          "data": {
            "text/plain": [
              "array([[405.5285 ],\n",
              "       [624.0229 ],\n",
              "       [592.5811 ],\n",
              "       [572.6491 ],\n",
              "       [366.80643],\n",
              "       [579.6121 ],\n",
              "       [515.409  ],\n",
              "       [459.40903],\n",
              "       [549.64246],\n",
              "       [447.8087 ],\n",
              "       [612.25616],\n",
              "       [549.3511 ],\n",
              "       [419.3538 ],\n",
              "       [409.11136],\n",
              "       [651.7621 ],\n",
              "       [437.57562],\n",
              "       [508.81146],\n",
              "       [660.451  ],\n",
              "       [663.1087 ],\n",
              "       [565.9582 ],\n",
              "       [334.38406],\n",
              "       [445.11673],\n",
              "       [382.73773],\n",
              "       [378.96445],\n",
              "       [567.01447],\n",
              "       [611.0583 ],\n",
              "       [532.77136],\n",
              "       [428.12503],\n",
              "       [655.9602 ],\n",
              "       [414.33255],\n",
              "       [442.91928],\n",
              "       [485.45645],\n",
              "       [438.69095],\n",
              "       [682.3947 ],\n",
              "       [425.0224 ],\n",
              "       [417.93677],\n",
              "       [502.2808 ],\n",
              "       [550.8777 ],\n",
              "       [510.08524],\n",
              "       [395.57974],\n",
              "       [619.07056],\n",
              "       [416.8818 ],\n",
              "       [604.9127 ],\n",
              "       [446.24863],\n",
              "       [502.33652],\n",
              "       [582.1588 ],\n",
              "       [669.5403 ],\n",
              "       [490.73962],\n",
              "       [318.72345],\n",
              "       [485.75568],\n",
              "       [517.63007],\n",
              "       [382.0072 ],\n",
              "       [542.30536],\n",
              "       [408.83798],\n",
              "       [642.02563],\n",
              "       [491.4116 ],\n",
              "       [628.42926],\n",
              "       [627.4935 ],\n",
              "       [447.3578 ],\n",
              "       [485.0303 ],\n",
              "       [491.47095],\n",
              "       [474.85928],\n",
              "       [683.3406 ],\n",
              "       [403.52484],\n",
              "       [701.7083 ],\n",
              "       [586.8412 ],\n",
              "       [583.56195],\n",
              "       [538.24677],\n",
              "       [484.9051 ],\n",
              "       [516.9245 ],\n",
              "       [361.41586],\n",
              "       [541.1481 ],\n",
              "       [571.0542 ],\n",
              "       [528.8401 ],\n",
              "       [454.0172 ],\n",
              "       [531.5247 ],\n",
              "       [507.56668],\n",
              "       [443.61786],\n",
              "       [543.76294],\n",
              "       [641.26154],\n",
              "       [466.31805],\n",
              "       [567.68304],\n",
              "       [691.33014],\n",
              "       [459.03616],\n",
              "       [709.4923 ],\n",
              "       [473.014  ],\n",
              "       [403.51993],\n",
              "       [585.5465 ],\n",
              "       [437.03555],\n",
              "       [489.2999 ],\n",
              "       [617.5172 ],\n",
              "       [439.75806],\n",
              "       [455.62543],\n",
              "       [435.53436],\n",
              "       [507.2671 ],\n",
              "       [608.91724],\n",
              "       [321.7769 ],\n",
              "       [436.5483 ],\n",
              "       [536.73236],\n",
              "       [519.0033 ],\n",
              "       [605.51746],\n",
              "       [525.82404],\n",
              "       [334.2983 ],\n",
              "       [576.60016],\n",
              "       [432.0547 ],\n",
              "       [562.9752 ],\n",
              "       [513.7697 ],\n",
              "       [391.3107 ],\n",
              "       [566.67413],\n",
              "       [455.09766],\n",
              "       [448.77643],\n",
              "       [641.4685 ],\n",
              "       [524.75336],\n",
              "       [551.0944 ],\n",
              "       [417.9503 ],\n",
              "       [479.06653],\n",
              "       [586.96954],\n",
              "       [667.91235],\n",
              "       [701.03546],\n",
              "       [659.9207 ],\n",
              "       [560.9832 ],\n",
              "       [503.52835],\n",
              "       [390.58105],\n",
              "       [281.44458],\n",
              "       [479.9418 ],\n",
              "       [616.85284],\n",
              "       [373.5216 ],\n",
              "       [512.62524],\n",
              "       [511.38937],\n",
              "       [493.82858],\n",
              "       [480.7878 ],\n",
              "       [424.05405],\n",
              "       [493.80057],\n",
              "       [471.7899 ],\n",
              "       [600.91187],\n",
              "       [574.016  ],\n",
              "       [415.21957],\n",
              "       [631.14484],\n",
              "       [466.68515],\n",
              "       [564.7611 ],\n",
              "       [405.93106],\n",
              "       [532.5624 ],\n",
              "       [573.06903],\n",
              "       [357.26718],\n",
              "       [550.24304],\n",
              "       [603.8241 ],\n",
              "       [384.52258],\n",
              "       [542.79126],\n",
              "       [563.0168 ],\n",
              "       [453.18393],\n",
              "       [632.7054 ],\n",
              "       [372.46   ],\n",
              "       [474.57532],\n",
              "       [529.2524 ],\n",
              "       [372.50735],\n",
              "       [461.54483],\n",
              "       [436.59128],\n",
              "       [498.84503],\n",
              "       [346.29196],\n",
              "       [395.52438],\n",
              "       [605.05255],\n",
              "       [507.0138 ],\n",
              "       [468.93073],\n",
              "       [490.7084 ],\n",
              "       [535.6726 ],\n",
              "       [344.6744 ],\n",
              "       [512.6915 ],\n",
              "       [250.87286],\n",
              "       [504.4444 ],\n",
              "       [541.5002 ],\n",
              "       [489.7109 ],\n",
              "       [471.40814],\n",
              "       [392.7789 ],\n",
              "       [416.51227],\n",
              "       [549.9854 ],\n",
              "       [476.1183 ],\n",
              "       [580.3904 ],\n",
              "       [490.11166],\n",
              "       [601.45154],\n",
              "       [547.40295],\n",
              "       [542.36346],\n",
              "       [500.93527],\n",
              "       [646.3546 ],\n",
              "       [560.83813],\n",
              "       [578.3802 ],\n",
              "       [444.4205 ],\n",
              "       [415.77634],\n",
              "       [420.29852],\n",
              "       [569.555  ],\n",
              "       [609.4883 ],\n",
              "       [438.04007],\n",
              "       [488.31018],\n",
              "       [588.20386],\n",
              "       [525.7636 ],\n",
              "       [357.5547 ],\n",
              "       [645.9354 ],\n",
              "       [528.4186 ],\n",
              "       [337.38046],\n",
              "       [493.03622],\n",
              "       [410.4066 ],\n",
              "       [607.07544],\n",
              "       [346.713  ],\n",
              "       [522.7966 ],\n",
              "       [404.9345 ],\n",
              "       [258.4932 ],\n",
              "       [520.2718 ],\n",
              "       [341.06912],\n",
              "       [362.2433 ],\n",
              "       [576.8591 ],\n",
              "       [416.9336 ],\n",
              "       [551.39795],\n",
              "       [521.46106],\n",
              "       [511.12338],\n",
              "       [324.9055 ],\n",
              "       [404.39484],\n",
              "       [602.8694 ],\n",
              "       [618.34705],\n",
              "       [603.7401 ],\n",
              "       [566.71967],\n",
              "       [473.74963],\n",
              "       [460.67685],\n",
              "       [508.79465],\n",
              "       [446.1951 ],\n",
              "       [511.6801 ],\n",
              "       [502.7336 ],\n",
              "       [400.378  ],\n",
              "       [606.00183],\n",
              "       [258.2144 ],\n",
              "       [628.7518 ],\n",
              "       [589.5896 ],\n",
              "       [327.30414],\n",
              "       [479.87827],\n",
              "       [595.8072 ],\n",
              "       [378.61108],\n",
              "       [460.46176],\n",
              "       [325.16382],\n",
              "       [519.0676 ],\n",
              "       [409.8688 ],\n",
              "       [556.66656],\n",
              "       [642.4052 ],\n",
              "       [537.2185 ],\n",
              "       [503.53424],\n",
              "       [635.5453 ],\n",
              "       [515.61176],\n",
              "       [532.09717],\n",
              "       [519.19794],\n",
              "       [457.74463],\n",
              "       [506.18808],\n",
              "       [461.41455],\n",
              "       [592.15875],\n",
              "       [466.2253 ],\n",
              "       [427.45093],\n",
              "       [541.9918 ],\n",
              "       [494.14713],\n",
              "       [680.22076],\n",
              "       [372.97485],\n",
              "       [552.0224 ],\n",
              "       [578.4075 ],\n",
              "       [434.24228],\n",
              "       [543.42554],\n",
              "       [586.4508 ],\n",
              "       [579.6913 ],\n",
              "       [721.54376],\n",
              "       [433.01782],\n",
              "       [398.83215],\n",
              "       [314.14948],\n",
              "       [448.57513],\n",
              "       [388.31287],\n",
              "       [543.6055 ],\n",
              "       [523.11365],\n",
              "       [564.9152 ],\n",
              "       [448.30756],\n",
              "       [534.801  ],\n",
              "       [382.00778],\n",
              "       [501.86975],\n",
              "       [637.61316],\n",
              "       [496.8992 ],\n",
              "       [568.82025],\n",
              "       [470.42822],\n",
              "       [273.40503],\n",
              "       [517.735  ],\n",
              "       [621.8906 ],\n",
              "       [350.69464],\n",
              "       [450.73935],\n",
              "       [499.6399 ],\n",
              "       [543.3748 ],\n",
              "       [612.3063 ],\n",
              "       [388.39975],\n",
              "       [449.69238],\n",
              "       [482.7452 ],\n",
              "       [598.7786 ],\n",
              "       [499.73074],\n",
              "       [321.6057 ],\n",
              "       [555.5597 ],\n",
              "       [444.91977],\n",
              "       [529.4199 ],\n",
              "       [515.6844 ],\n",
              "       [610.12   ],\n",
              "       [417.20953],\n",
              "       [411.11868]], dtype=float32)"
            ]
          },
          "metadata": {
            "tags": []
          },
          "execution_count": 29
        }
      ]
    },
    {
      "cell_type": "code",
      "metadata": {
        "id": "E3j4QOoZJsUM"
      },
      "source": [
        "# test_pred is now a pandas series instead of a numpy array, which means it can be concatenated with the TRUE y prices\r\n",
        "test_predictions = pd.Series(test_predictions.reshape(300,))"
      ],
      "execution_count": null,
      "outputs": []
    },
    {
      "cell_type": "code",
      "metadata": {
        "id": "qG6MkwrvKwpk"
      },
      "source": [
        "pred_df = pd.DataFrame(y_test, columns = ['True Y'])"
      ],
      "execution_count": null,
      "outputs": []
    },
    {
      "cell_type": "code",
      "metadata": {
        "id": "gI9tYILgK9QS"
      },
      "source": [
        "pred_df = pd.DataFrame(y_test,columns=['Test True Y'])\r\n",
        "pred_df = pd.concat([pred_df,test_predictions], axis=1)\r\n",
        "\r\n",
        "pred_df.columns = ['Test True Y', 'Model Predictions']"
      ],
      "execution_count": null,
      "outputs": []
    },
    {
      "cell_type": "code",
      "metadata": {
        "colab": {
          "base_uri": "https://localhost:8080/",
          "height": 419
        },
        "id": "qBvU3bBaMcWd",
        "outputId": "a119d0b9-f812-4a4e-e712-10c30fad57d5"
      },
      "source": [
        "pred_df"
      ],
      "execution_count": null,
      "outputs": [
        {
          "output_type": "execute_result",
          "data": {
            "text/html": [
              "<div>\n",
              "<style scoped>\n",
              "    .dataframe tbody tr th:only-of-type {\n",
              "        vertical-align: middle;\n",
              "    }\n",
              "\n",
              "    .dataframe tbody tr th {\n",
              "        vertical-align: top;\n",
              "    }\n",
              "\n",
              "    .dataframe thead th {\n",
              "        text-align: right;\n",
              "    }\n",
              "</style>\n",
              "<table border=\"1\" class=\"dataframe\">\n",
              "  <thead>\n",
              "    <tr style=\"text-align: right;\">\n",
              "      <th></th>\n",
              "      <th>Test True Y</th>\n",
              "      <th>Model Predictions</th>\n",
              "    </tr>\n",
              "  </thead>\n",
              "  <tbody>\n",
              "    <tr>\n",
              "      <th>0</th>\n",
              "      <td>402.296319</td>\n",
              "      <td>405.528503</td>\n",
              "    </tr>\n",
              "    <tr>\n",
              "      <th>1</th>\n",
              "      <td>624.156198</td>\n",
              "      <td>624.022888</td>\n",
              "    </tr>\n",
              "    <tr>\n",
              "      <th>2</th>\n",
              "      <td>582.455066</td>\n",
              "      <td>592.581116</td>\n",
              "    </tr>\n",
              "    <tr>\n",
              "      <th>3</th>\n",
              "      <td>578.588606</td>\n",
              "      <td>572.649109</td>\n",
              "    </tr>\n",
              "    <tr>\n",
              "      <th>4</th>\n",
              "      <td>371.224104</td>\n",
              "      <td>366.806427</td>\n",
              "    </tr>\n",
              "    <tr>\n",
              "      <th>...</th>\n",
              "      <td>...</td>\n",
              "      <td>...</td>\n",
              "    </tr>\n",
              "    <tr>\n",
              "      <th>295</th>\n",
              "      <td>525.704657</td>\n",
              "      <td>529.419922</td>\n",
              "    </tr>\n",
              "    <tr>\n",
              "      <th>296</th>\n",
              "      <td>502.909473</td>\n",
              "      <td>515.684387</td>\n",
              "    </tr>\n",
              "    <tr>\n",
              "      <th>297</th>\n",
              "      <td>612.727910</td>\n",
              "      <td>610.119995</td>\n",
              "    </tr>\n",
              "    <tr>\n",
              "      <th>298</th>\n",
              "      <td>417.569725</td>\n",
              "      <td>417.209534</td>\n",
              "    </tr>\n",
              "    <tr>\n",
              "      <th>299</th>\n",
              "      <td>410.538250</td>\n",
              "      <td>411.118683</td>\n",
              "    </tr>\n",
              "  </tbody>\n",
              "</table>\n",
              "<p>300 rows × 2 columns</p>\n",
              "</div>"
            ],
            "text/plain": [
              "     Test True Y  Model Predictions\n",
              "0     402.296319         405.528503\n",
              "1     624.156198         624.022888\n",
              "2     582.455066         592.581116\n",
              "3     578.588606         572.649109\n",
              "4     371.224104         366.806427\n",
              "..           ...                ...\n",
              "295   525.704657         529.419922\n",
              "296   502.909473         515.684387\n",
              "297   612.727910         610.119995\n",
              "298   417.569725         417.209534\n",
              "299   410.538250         411.118683\n",
              "\n",
              "[300 rows x 2 columns]"
            ]
          },
          "metadata": {
            "tags": []
          },
          "execution_count": 43
        }
      ]
    },
    {
      "cell_type": "code",
      "metadata": {
        "colab": {
          "base_uri": "https://localhost:8080/",
          "height": 296
        },
        "id": "66V85T_2MeOP",
        "outputId": "e35be95e-2b8f-430e-a7d1-9db9d723bdd7"
      },
      "source": [
        "sns.scatterplot(x = 'Test True Y', y = 'Model Predictions', data = pred_df)"
      ],
      "execution_count": null,
      "outputs": [
        {
          "output_type": "execute_result",
          "data": {
            "text/plain": [
              "<matplotlib.axes._subplots.AxesSubplot at 0x7f1c23f17860>"
            ]
          },
          "metadata": {
            "tags": []
          },
          "execution_count": 44
        },
        {
          "output_type": "display_data",
          "data": {
            "image/png": "[encoded data removed]",
            "text/plain": [
              "<Figure size 432x288 with 1 Axes>"
            ]
          },
          "metadata": {
            "tags": [],
            "needs_background": "light"
          }
        }
      ]
    },
    {
      "cell_type": "code",
      "metadata": {
        "id": "RSi2-EbpS5_v"
      },
      "source": [
        "from sklearn.metrics import mean_absolute_error, mean_squared_error"
      ],
      "execution_count": null,
      "outputs": []
    },
    {
      "cell_type": "code",
      "metadata": {
        "colab": {
          "base_uri": "https://localhost:8080/"
        },
        "id": "85xp8RV9TN3K",
        "outputId": "80b00e69-da25-483c-ca5b-8b8dbb067bfa"
      },
      "source": [
        "mean_absolute_error(pred_df['Test True Y'], pred_df['Model Predictions'])"
      ],
      "execution_count": null,
      "outputs": [
        {
          "output_type": "execute_result",
          "data": {
            "text/plain": [
              "4.025836735090146"
            ]
          },
          "metadata": {
            "tags": []
          },
          "execution_count": 46
        }
      ]
    },
    {
      "cell_type": "code",
      "metadata": {
        "colab": {
          "base_uri": "https://localhost:8080/",
          "height": 297
        },
        "id": "lO8Q04IcT0-w",
        "outputId": "48fbded7-4256-4696-a2ff-9b5895e24107"
      },
      "source": [
        "df.describe() # So a $4.00 MAE is very good, given the mean is ~ 500"
      ],
      "execution_count": null,
      "outputs": [
        {
          "output_type": "execute_result",
          "data": {
            "text/html": [
              "<div>\n",
              "<style scoped>\n",
              "    .dataframe tbody tr th:only-of-type {\n",
              "        vertical-align: middle;\n",
              "    }\n",
              "\n",
              "    .dataframe tbody tr th {\n",
              "        vertical-align: top;\n",
              "    }\n",
              "\n",
              "    .dataframe thead th {\n",
              "        text-align: right;\n",
              "    }\n",
              "</style>\n",
              "<table border=\"1\" class=\"dataframe\">\n",
              "  <thead>\n",
              "    <tr style=\"text-align: right;\">\n",
              "      <th></th>\n",
              "      <th>price</th>\n",
              "      <th>feature1</th>\n",
              "      <th>feature2</th>\n",
              "    </tr>\n",
              "  </thead>\n",
              "  <tbody>\n",
              "    <tr>\n",
              "      <th>count</th>\n",
              "      <td>1000.000000</td>\n",
              "      <td>1000.000000</td>\n",
              "      <td>1000.000000</td>\n",
              "    </tr>\n",
              "    <tr>\n",
              "      <th>mean</th>\n",
              "      <td>498.673029</td>\n",
              "      <td>1000.014171</td>\n",
              "      <td>999.979847</td>\n",
              "    </tr>\n",
              "    <tr>\n",
              "      <th>std</th>\n",
              "      <td>93.785431</td>\n",
              "      <td>0.974018</td>\n",
              "      <td>0.948330</td>\n",
              "    </tr>\n",
              "    <tr>\n",
              "      <th>min</th>\n",
              "      <td>223.346793</td>\n",
              "      <td>997.058347</td>\n",
              "      <td>996.995651</td>\n",
              "    </tr>\n",
              "    <tr>\n",
              "      <th>25%</th>\n",
              "      <td>433.025732</td>\n",
              "      <td>999.332068</td>\n",
              "      <td>999.316106</td>\n",
              "    </tr>\n",
              "    <tr>\n",
              "      <th>50%</th>\n",
              "      <td>502.382117</td>\n",
              "      <td>1000.009915</td>\n",
              "      <td>1000.002243</td>\n",
              "    </tr>\n",
              "    <tr>\n",
              "      <th>75%</th>\n",
              "      <td>564.921588</td>\n",
              "      <td>1000.637580</td>\n",
              "      <td>1000.645380</td>\n",
              "    </tr>\n",
              "    <tr>\n",
              "      <th>max</th>\n",
              "      <td>774.407854</td>\n",
              "      <td>1003.207934</td>\n",
              "      <td>1002.666308</td>\n",
              "    </tr>\n",
              "  </tbody>\n",
              "</table>\n",
              "</div>"
            ],
            "text/plain": [
              "             price     feature1     feature2\n",
              "count  1000.000000  1000.000000  1000.000000\n",
              "mean    498.673029  1000.014171   999.979847\n",
              "std      93.785431     0.974018     0.948330\n",
              "min     223.346793   997.058347   996.995651\n",
              "25%     433.025732   999.332068   999.316106\n",
              "50%     502.382117  1000.009915  1000.002243\n",
              "75%     564.921588  1000.637580  1000.645380\n",
              "max     774.407854  1003.207934  1002.666308"
            ]
          },
          "metadata": {
            "tags": []
          },
          "execution_count": 49
        }
      ]
    },
    {
      "cell_type": "code",
      "metadata": {
        "colab": {
          "base_uri": "https://localhost:8080/"
        },
        "id": "LaJ5MT2bT-Kh",
        "outputId": "23e11c2c-e7ce-4c2a-e751-9d12565fa1e5"
      },
      "source": [
        "mean_squared_error(pred_df['Test True Y'], pred_df['Model Predictions'])"
      ],
      "execution_count": null,
      "outputs": [
        {
          "output_type": "execute_result",
          "data": {
            "text/plain": [
              "25.16949654146615"
            ]
          },
          "metadata": {
            "tags": []
          },
          "execution_count": 50
        }
      ]
    },
    {
      "cell_type": "code",
      "metadata": {
        "id": "FXJyPbaXUbp5"
      },
      "source": [
        "new_gem = [[998, 1000]]"
      ],
      "execution_count": null,
      "outputs": []
    },
    {
      "cell_type": "code",
      "metadata": {
        "id": "-pMByM36VE8u"
      },
      "source": [
        "new_gem = scaler.transform(new_gem)"
      ],
      "execution_count": null,
      "outputs": []
    },
    {
      "cell_type": "code",
      "metadata": {
        "colab": {
          "base_uri": "https://localhost:8080/"
        },
        "id": "eh1YU7NIVNys",
        "outputId": "bdb5aa33-ac3c-4d94-d4f9-fbb67abfc59a"
      },
      "source": [
        "model.predict(new_gem) # How you predict a new gem/data"
      ],
      "execution_count": null,
      "outputs": [
        {
          "output_type": "execute_result",
          "data": {
            "text/plain": [
              "array([[419.9364]], dtype=float32)"
            ]
          },
          "metadata": {
            "tags": []
          },
          "execution_count": 55
        }
      ]
    },
    {
      "cell_type": "code",
      "metadata": {
        "id": "sFqXxgUdVZAT"
      },
      "source": [
        "from tensorflow.keras.models import load_model"
      ],
      "execution_count": null,
      "outputs": []
    },
    {
      "cell_type": "code",
      "metadata": {
        "id": "T66vMLtzV9ps"
      },
      "source": [
        "model.save('my_gem_model.h5')"
      ],
      "execution_count": null,
      "outputs": []
    },
    {
      "cell_type": "code",
      "metadata": {
        "id": "uUpP5gT7Vv73"
      },
      "source": [
        "later_model = load_model('my_gem_model.h5')"
      ],
      "execution_count": null,
      "outputs": []
    },
    {
      "cell_type": "code",
      "metadata": {
        "colab": {
          "base_uri": "https://localhost:8080/"
        },
        "id": "ZlIeH_1FV3pi",
        "outputId": "27685675-be98-43f9-8947-f97bbfe98130"
      },
      "source": [
        "later_model.predict(new_gem)"
      ],
      "execution_count": null,
      "outputs": [
        {
          "output_type": "execute_result",
          "data": {
            "text/plain": [
              "array([[419.9364]], dtype=float32)"
            ]
          },
          "metadata": {
            "tags": []
          },
          "execution_count": 61
        }
      ]
    },
    {
      "cell_type": "code",
      "metadata": {
        "id": "hyDkpBN9WIPK"
      },
      "source": [
        ""
      ],
      "execution_count": null,
      "outputs": []
    },
    {
      "cell_type": "code",
      "metadata": {
        "id": "0ZKEiogWVSEO"
      },
      "source": [
        ""
      ],
      "execution_count": null,
      "outputs": []
    },
    {
      "cell_type": "code",
      "metadata": {
        "id": "py60IunbVJds"
      },
      "source": [
        ""
      ],
      "execution_count": null,
      "outputs": []
    },
    {
      "cell_type": "code",
      "metadata": {
        "id": "avDf5Pm8UJdU"
      },
      "source": [
        ""
      ],
      "execution_count": null,
      "outputs": []
    },
    {
      "cell_type": "code",
      "metadata": {
        "id": "EvtXJTlfUJiD"
      },
      "source": [
        ""
      ],
      "execution_count": null,
      "outputs": []
    },
    {
      "cell_type": "code",
      "metadata": {
        "id": "dUZI7fxWUJlp"
      },
      "source": [
        ""
      ],
      "execution_count": null,
      "outputs": []
    },
    {
      "cell_type": "code",
      "metadata": {
        "id": "bE-KO2hqUJqj"
      },
      "source": [
        ""
      ],
      "execution_count": null,
      "outputs": []
    },
    {
      "cell_type": "code",
      "metadata": {
        "id": "uvZIbMmOUJuO"
      },
      "source": [
        ""
      ],
      "execution_count": null,
      "outputs": []
    },
    {
      "cell_type": "code",
      "metadata": {
        "id": "OiGJ5rLELJU_"
      },
      "source": [
        ""
      ],
      "execution_count": null,
      "outputs": []
    },
    {
      "cell_type": "code",
      "metadata": {
        "id": "7CYMOrZ7Huqv"
      },
      "source": [
        ""
      ],
      "execution_count": null,
      "outputs": []
    },
    {
      "cell_type": "code",
      "metadata": {
        "id": "W9QvLquSHZJ1"
      },
      "source": [
        ""
      ],
      "execution_count": null,
      "outputs": []
    },
    {
      "cell_type": "code",
      "metadata": {
        "id": "haUE4lPiHTOU"
      },
      "source": [
        ""
      ],
      "execution_count": null,
      "outputs": []
    },
    {
      "cell_type": "code",
      "metadata": {
        "id": "CnwjqFMWGdMp"
      },
      "source": [
        ""
      ],
      "execution_count": null,
      "outputs": []
    },
    {
      "cell_type": "code",
      "metadata": {
        "id": "LtWV7HnkGOqG"
      },
      "source": [
        ""
      ],
      "execution_count": null,
      "outputs": []
    },
    {
      "cell_type": "code",
      "metadata": {
        "id": "jv0xPftT3cal"
      },
      "source": [
        ""
      ],
      "execution_count": null,
      "outputs": []
    },
    {
      "cell_type": "code",
      "metadata": {
        "id": "ODDVvNjU273g"
      },
      "source": [
        ""
      ],
      "execution_count": null,
      "outputs": []
    },
    {
      "cell_type": "code",
      "metadata": {
        "id": "pc-fcltt1dek"
      },
      "source": [
        ""
      ],
      "execution_count": null,
      "outputs": []
    }
  ]
}